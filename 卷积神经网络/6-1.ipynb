{
 "cells": [
  {
   "cell_type": "markdown",
   "id": "4faaa1cc",
   "metadata": {},
   "source": [
    "卷积神经网络注重使用空间中的不变性\n",
    "\n",
    "平移不变性（translation invariance）：不管检测对象出现在图像中的哪个位置，神经网络的前面几层应该对相同的图像区域具有相似的反应，即为“平移不变性”。\n",
    "局部性（locality）：神经网络的前面几层应该只探索输入图像中的局部区域，而不过度在意图像中相隔较远区域的关系，这就是“局部性”原则。最终，可以聚合这些局部特征，以在整个图像级别进行预测。"
   ]
  },
  {
   "cell_type": "markdown",
   "id": "339aaa50",
   "metadata": {},
   "source": [
    "上述关于卷积核的概念仅仅在于二维卷积核，也就是相当于平面图像，我们有了这样的想法"
   ]
  }
 ],
 "metadata": {
  "language_info": {
   "name": "python"
  }
 },
 "nbformat": 4,
 "nbformat_minor": 5
}
