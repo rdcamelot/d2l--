{
 "cells": [
  {
   "cell_type": "markdown",
   "id": "ac0ab5d1",
   "metadata": {},
   "source": [
    "卷积的输出形状不仅取决于输入形状和卷积核的形状，还取决于填充和步幅"
   ]
  },
  {
   "cell_type": "markdown",
   "id": "62786ff3",
   "metadata": {},
   "source": [
    "通过填充可以使得输出和输入的大小变得一致\n",
    "\n",
    "卷积神经网络中卷积核的高度和宽度通常为奇数，例如1、3、5或7。 选择奇数的好处是，保持空间维度的同时，我们可以在顶部和底部填充相同数量的行，在左侧和右侧填充相同数量的列\n",
    "\n",
    "对于任何二维张量X，当满足： \n",
    "1. 卷积核的大小是奇数； \n",
    "2. 所有边的填充行数和列数相同； \n",
    "3. 输出与输入具有相同高度和宽度 \n",
    "\n",
    "则可以得出：输出Y[i, j]是通过以输入X[i, j]为中心，与卷积核进行互相关计算得到的。"
   ]
  },
  {
   "cell_type": "code",
   "execution_count": null,
   "id": "db39d831",
   "metadata": {},
   "outputs": [
    {
     "data": {
      "text/plain": [
       "torch.Size([8, 8])"
      ]
     },
     "execution_count": 1,
     "metadata": {},
     "output_type": "execute_result"
    }
   ],
   "source": [
    "import torch\n",
    "from torch import nn\n",
    "\n",
    "\n",
    "# 为了方便起见，我们定义了一个计算卷积层的函数。\n",
    "# 此函数初始化卷积层权重，并对输入和输出提高和缩减相应的维数\n",
    "def comp_conv2d(conv2d, X):\n",
    "    # 这里的（1，1）表示批量大小和通道数都是1\n",
    "    X = X.reshape((1, 1) + X.shape)\n",
    "    Y = conv2d(X)\n",
    "    # 省略前两个维度：批量大小和通道\n",
    "    return Y.reshape(Y.shape[2:])\n",
    "\n",
    "# 请注意，这里每边都填充了1行或1列，因此总共添加了2行或2列\n",
    "# 该初始化表示输入通道数和输出通道数都是1，卷积核的大小是3x3的正方形卷积核，padding=1表示在输入的上下左右各填充1行/列的零\n",
    "conv2d = nn.Conv2d(1, 1, kernel_size=3, padding=1)\n",
    "X = torch.rand(size=(8, 8))\n",
    "comp_conv2d(conv2d, X).shape\n",
    "\n",
    "# 运行后可以发现和初始的输入大小是一致的"
   ]
  },
  {
   "cell_type": "markdown",
   "id": "7c914026",
   "metadata": {},
   "source": [
    "通过调用内置的卷积层函数，对于高度和宽度不同的卷积核，也可以填充不同的高度和宽度"
   ]
  },
  {
   "cell_type": "code",
   "execution_count": 2,
   "id": "93deb7ce",
   "metadata": {},
   "outputs": [
    {
     "data": {
      "text/plain": [
       "torch.Size([8, 8])"
      ]
     },
     "execution_count": 2,
     "metadata": {},
     "output_type": "execute_result"
    }
   ],
   "source": [
    "conv2d = nn.Conv2d(1, 1, kernel_size=(5, 3), padding=(2, 1))\n",
    "comp_conv2d(conv2d, X).shape"
   ]
  },
  {
   "cell_type": "markdown",
   "id": "fe0c8a9c",
   "metadata": {},
   "source": [
    "为了高效计算或是缩减采样次数，也可以通过控制步幅参数使得每次滑动多个元素<br>\n",
    "将每次滑动元素的数量称为步幅"
   ]
  },
  {
   "cell_type": "markdown",
   "id": "75240cfe",
   "metadata": {},
   "source": [
    "例如下面，我们将高度和宽度的步幅设置为2，从而将输入的高度和宽度减半"
   ]
  },
  {
   "cell_type": "code",
   "execution_count": 3,
   "id": "e484ec37",
   "metadata": {},
   "outputs": [
    {
     "data": {
      "text/plain": [
       "torch.Size([4, 4])"
      ]
     },
     "execution_count": 3,
     "metadata": {},
     "output_type": "execute_result"
    }
   ],
   "source": [
    "conv2d = nn.Conv2d(1, 1, kernel_size=3, padding=1, stride=2)\n",
    "comp_conv2d(conv2d, X).shape"
   ]
  },
  {
   "cell_type": "code",
   "execution_count": 4,
   "id": "6cbaa04a",
   "metadata": {},
   "outputs": [
    {
     "data": {
      "text/plain": [
       "torch.Size([4, 4])"
      ]
     },
     "execution_count": 4,
     "metadata": {},
     "output_type": "execute_result"
    }
   ],
   "source": [
    "conv2d = nn.Conv2d(1, 1, kernel_size=3, padding=1, stride=2)\n",
    "comp_conv2d(conv2d, X).shape"
   ]
  },
  {
   "cell_type": "markdown",
   "id": "f7264994",
   "metadata": {},
   "source": [
    "默认情况下，填充为0，步幅为1\n",
    "且一般很少使用不一致的步幅或填充，也就是一般有ph=pw和sh=sw"
   ]
  }
 ],
 "metadata": {
  "kernelspec": {
   "display_name": "Python 3",
   "language": "python",
   "name": "python3"
  },
  "language_info": {
   "codemirror_mode": {
    "name": "ipython",
    "version": 3
   },
   "file_extension": ".py",
   "mimetype": "text/x-python",
   "name": "python",
   "nbconvert_exporter": "python",
   "pygments_lexer": "ipython3",
   "version": "3.9.21"
  }
 },
 "nbformat": 4,
 "nbformat_minor": 5
}
