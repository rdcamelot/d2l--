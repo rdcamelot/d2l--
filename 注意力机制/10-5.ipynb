{
 "cells": [
  {
   "cell_type": "markdown",
   "id": "14cc2235",
   "metadata": {},
   "source": [
    "在实践中，当给定相同的查询、键和值的集合时， 我们希望模型可以基于相同的注意力机制学习到不同的行为， 然后将不同的行为作为知识组合起来， 捕获序列内各种范围的依赖关系 （例如，短距离依赖和长距离依赖关系）。 \n",
    "因此，允许注意力机制组合使用查询、键和值的不同 子空间表示（representation subspaces）可能是有益的。\n",
    "\n",
    "为此，与其只使用单独一个注意力汇聚， 我们可以用独立学习得到的h组不同的 线性投影（linear projections）来变换查询、键和值。 然后，这h组变换后的查询、键和值将并行地送到注意力汇聚中。 最后，将这h个注意力汇聚的输出拼接在一起， 并且通过另一个可以学习的线性投影进行变换， 以产生最终输出。 这种设计被称为多头注意力（multihead attention） (Vaswani et al., 2017)。 对于h个注意力汇聚输出，每一个注意力汇聚都被称作一个头（head）"
   ]
  },
  {
   "cell_type": "markdown",
   "id": "3f2dbfc3",
   "metadata": {},
   "source": [
    "并行学习多个“子空间”表示：\n",
    "与单一注意力机制只计算一个查询、键和值之间的注意力得分不同，多头注意力通过对查询、键和值进行多组不同的线性变换，从而得到多个表示子空间。这样，每个“头”能捕捉不同的依赖关系（例如短距离或长距离依赖）。\n",
    "表示子空间是指在多头注意力中，通过对查询、键和值分别采用不同的线性变换后所得到的不同低维表示空间，也就是将原始输入映射到不同的子空间，并在这个子空间中捕捉不同方面的信息和依赖关系\n",
    "\n",
    "并行注意力汇聚与输出拼接：\n",
    "每个头独立计算注意力得分和对应的加权求和，得到多个上下文表示。最后，将所有头的输出进行拼接，再通过一个线性变换得到最终结果。\n",
    "\n",
    "设计初衷：\n",
    "这种设计基于这样一个想法：不同的表示子空间可以捕捉输入中不同方面的信息，将它们组合起来，可以更全面地建模序列内多样的关系和依赖性。这也是 Transformer 模型的核心思想之一，最初在《Attention Is All You Need》中提出并广泛应用于各类序列到序列任务中。"
   ]
  },
  {
   "cell_type": "markdown",
   "id": "6f2eac9e",
   "metadata": {},
   "source": [
    "在实现多头注意力之前，让我们用数学语言将这个模型形式化地描述出来。给定查询 $\\mathbf{q} \\in \\mathbb{R}^{d_q}$ 、键 $\\mathbf{k} \\in \\mathbb{R}^{d_k}$ 和 值 $\\mathbf{v} \\in \\mathbb{R}^{d_v}$ ，每个注意力头 $\\mathbf{h}_i$ （ $i = 1, \\ldots, h$ ）的计算方法为：\n",
    "$$\n",
    "\\mathbf{h}_i = f(\\mathbf{W}_i^{(q)} \\mathbf{q}, \\mathbf{W}_i^{(k)} \\mathbf{k}, \\mathbf{W}_i^{(v)} \\mathbf{v}) \\in \\mathbb{R}^{p_v},\n",
    "$$\n",
    "\n",
    "其中，可学习的参数包括 $\\mathbf{W}_i^{(q)} \\in \\mathbb{R}^{p_q \\times d_q}$ 、$\\mathbf{W}_i^{(k)} \\in \\mathbb{R}^{p_k \\times d_k}$ 和 $\\mathbf{W}_i^{(v)} \\in \\mathbb{R}^{p_v \\times d_v}$ ，以及代表注意力汇聚的函数 f 。 f 可以是10.3节中的加性注意力和缩放点积注意力。多头注意力的输出需要经过另一个线性转换，它对应着 h 个头连结后的结果，因此其可学习参数是 $\\mathbf{W}_o \\in \\mathbb{R}^{p_o \\times h p_v}$：\n",
    "$$\n",
    "\\mathbf{W}_o \\begin{bmatrix} \\mathbf{h}_1 \\\\ \\vdots \\\\ \\mathbf{h}_h \\end{bmatrix} \\in \\mathbb{R}^{p_o}.\n",
    "$$\n",
    "\n",
    "基于这种设计，每个头都可能会关注输入的不同部分，可以表示比简单加权平均值更复杂的函数。"
   ]
  },
  {
   "cell_type": "code",
   "execution_count": 1,
   "id": "c927b2cf",
   "metadata": {},
   "outputs": [],
   "source": [
    "import math\n",
    "import torch\n",
    "from torch import nn\n",
    "from d2l import torch as d2l"
   ]
  },
  {
   "cell_type": "markdown",
   "id": "91d379ec",
   "metadata": {},
   "source": [
    "在实现过程中通常选择缩放点积注意力作为每一个注意力头。为了避免计算代价和参数代价的大幅增长，我们设定 $p_q = p_k = p_v = p_o / h$ 。值得注意的是，如果将查询、键和值的线性变换的输出数量设置为 $p_q h = p_k h = p_v h = p_o$ ，则可以并行计算它们。在下面的实现中， $p_o$ 是通过参数 `num_hiddens` 指定的。"
   ]
  },
  {
   "cell_type": "code",
   "execution_count": null,
   "id": "77934639",
   "metadata": {},
   "outputs": [],
   "source": [
    "#@save\n",
    "class MultiHeadAttention(nn.Module):\n",
    "    \"\"\"多头注意力\"\"\"\n",
    "    def __init__(self, key_size, query_size, value_size, num_hiddens,\n",
    "                 num_heads, dropout, bias=False, **kwargs):\n",
    "        super(MultiHeadAttention, self).__init__(**kwargs)\n",
    "        self.num_heads = num_heads\n",
    "        self.attention = d2l.DotProductAttention(dropout)\n",
    "        self.W_q = nn.Linear(query_size, num_hiddens, bias=bias)\n",
    "        self.W_k = nn.Linear(key_size, num_hiddens, bias=bias)\n",
    "        self.W_v = nn.Linear(value_size, num_hiddens, bias=bias)\n",
    "        self.W_o = nn.Linear(num_hiddens, num_hiddens, bias=bias)\n",
    "\n",
    "    def forward(self, queries, keys, values, valid_lens):\n",
    "        # queries，keys，values的形状:\n",
    "        # (batch_size，查询或者“键－值”对的个数，num_hiddens)\n",
    "        # valid_lens　的形状:\n",
    "        # (batch_size，)或(batch_size，查询的个数)\n",
    "        # 经过变换后，输出的queries，keys，values　的形状:\n",
    "        # (batch_size*num_heads，查询或者“键－值”对的个数，\n",
    "        # num_hiddens/num_heads)\n",
    "\n",
    "        # 利用transpose_qkv函数来变换形状\n",
    "        queries = transpose_qkv(self.W_q(queries), self.num_heads)\n",
    "        keys = transpose_qkv(self.W_k(keys), self.num_heads)\n",
    "        values = transpose_qkv(self.W_v(values), self.num_heads)\n",
    "\n",
    "        if valid_lens is not None:\n",
    "            # 在轴0，将第一项（标量或者矢量）复制num_heads次，\n",
    "            # 然后如此复制第二项，然后诸如此类。\n",
    "            valid_lens = torch.repeat_interleave(\n",
    "                valid_lens, repeats=self.num_heads, dim=0)\n",
    "\n",
    "        # output的形状:(batch_size*num_heads，查询的个数，num_hiddens/num_heads)\n",
    "        # 调用初始化的attention函数，计算每个头的注意力机制输出\n",
    "        output = self.attention(queries, keys, values, valid_lens)\n",
    "\n",
    "        # output_concat的形状:(batch_size，查询的个数，num_hiddens)\n",
    "        output_concat = transpose_output(output, self.num_heads)\n",
    "\n",
    "        # 进行整合\n",
    "        return self.W_o(output_concat)"
   ]
  },
  {
   "cell_type": "markdown",
   "id": "184da9df",
   "metadata": {},
   "source": [
    "为了使得张量转换成适合多头注意里运算的形状，需要调用转置函数\n",
    "transpose_output函数反转了transpose_qkv函数的操作"
   ]
  },
  {
   "cell_type": "code",
   "execution_count": null,
   "id": "09b97143",
   "metadata": {},
   "outputs": [],
   "source": [
    "#@save\n",
    "def transpose_qkv(X, num_heads):\n",
    "    \"\"\"为了多注意力头的并行计算而变换形状\"\"\"\n",
    "    # 输入X的形状:(batch_size，查询或者“键－值”对的个数，num_hiddens)\n",
    "    # 输出X的形状:(batch_size，查询或者“键－值”对的个数，num_heads，\n",
    "    # num_hiddens/num_heads)\n",
    "\n",
    "    # 隐藏实现了将总的维度拆分为多个头，每个头对应一部分隐藏单元\n",
    "    X = X.reshape(X.shape[0], X.shape[1], num_heads, -1)\n",
    "\n",
    "    # 输出X的形状:(batch_size，num_heads，查询或者“键－值”对的个数,\n",
    "    # num_hiddens/num_heads)\n",
    "    X = X.permute(0, 2, 1, 3)\n",
    "\n",
    "    # 最终输出的形状:(batch_size*num_heads,查询或者“键－值”对的个数,num_hiddens/num_heads)\n",
    "    \n",
    "    # 这样，每个头的数据就放在“批次”维度里。\n",
    "    # 利用这一形状，可以利用 PyTorch 的批量矩阵运算，高效计算每个头对应的点积注意力，而无需使用循环分别处理每个头。\n",
    "    return X.reshape(-1, X.shape[2], X.shape[3])\n",
    "\n",
    "\n",
    "#@save\n",
    "def transpose_output(X, num_heads):\n",
    "    \"\"\"逆转transpose_qkv函数的操作\"\"\"\n",
    "    X = X.reshape(-1, num_heads, X.shape[1], X.shape[2])\n",
    "    X = X.permute(0, 2, 1, 3)\n",
    "    return X.reshape(X.shape[0], X.shape[1], -1)"
   ]
  },
  {
   "cell_type": "markdown",
   "id": "7edcc708",
   "metadata": {},
   "source": [
    "下面使用键和值相同的小例子来测试我们编写的MultiHeadAttention类。 多头注意力输出的形状是（batch_size，num_queries，num_hiddens）"
   ]
  },
  {
   "cell_type": "code",
   "execution_count": 4,
   "id": "31a0e1e9",
   "metadata": {},
   "outputs": [
    {
     "data": {
      "text/plain": [
       "MultiHeadAttention(\n",
       "  (attention): DotProductAttention(\n",
       "    (dropout): Dropout(p=0.5, inplace=False)\n",
       "  )\n",
       "  (W_q): Linear(in_features=100, out_features=100, bias=False)\n",
       "  (W_k): Linear(in_features=100, out_features=100, bias=False)\n",
       "  (W_v): Linear(in_features=100, out_features=100, bias=False)\n",
       "  (W_o): Linear(in_features=100, out_features=100, bias=False)\n",
       ")"
      ]
     },
     "execution_count": 4,
     "metadata": {},
     "output_type": "execute_result"
    }
   ],
   "source": [
    "num_hiddens, num_heads = 100, 5\n",
    "attention = MultiHeadAttention(num_hiddens, num_hiddens, num_hiddens,\n",
    "                               num_hiddens, num_heads, 0.5)\n",
    "attention.eval()"
   ]
  },
  {
   "cell_type": "code",
   "execution_count": null,
   "id": "77e20704",
   "metadata": {},
   "outputs": [
    {
     "data": {
      "text/plain": [
       "torch.Size([2, 4, 100])"
      ]
     },
     "execution_count": 5,
     "metadata": {},
     "output_type": "execute_result"
    }
   ],
   "source": [
    "# num_kvpairs 表示在键和值集合中包含的元素个数\n",
    "# 也就是说，它代表了计算注意力时参与匹配和加权求和操作的键/值对的数量\n",
    "\n",
    "batch_size, num_queries = 2, 4\n",
    "num_kvpairs, valid_lens =  6, torch.tensor([3, 2])\n",
    "X = torch.ones((batch_size, num_queries, num_hiddens))\n",
    "Y = torch.ones((batch_size, num_kvpairs, num_hiddens))\n",
    "attention(X, Y, Y, valid_lens).shape"
   ]
  }
 ],
 "metadata": {
  "kernelspec": {
   "display_name": "Python 3",
   "language": "python",
   "name": "python3"
  },
  "language_info": {
   "codemirror_mode": {
    "name": "ipython",
    "version": 3
   },
   "file_extension": ".py",
   "mimetype": "text/x-python",
   "name": "python",
   "nbconvert_exporter": "python",
   "pygments_lexer": "ipython3",
   "version": "3.9.21"
  }
 },
 "nbformat": 4,
 "nbformat_minor": 5
}
