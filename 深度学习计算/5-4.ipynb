{
 "cells": [
  {
   "cell_type": "markdown",
   "id": "ccb05e9f",
   "metadata": {},
   "source": [
    "构建自定义层"
   ]
  },
  {
   "cell_type": "markdown",
   "id": "cd49ff28",
   "metadata": {},
   "source": [
    "首先构造不带参数的层\n",
    "\n",
    "类似于之前定义块的方法\n",
    "\n",
    "在下面这个定义的块中，减去了输入数据的平均值，可以视为中心化或者零均值化"
   ]
  },
  {
   "cell_type": "code",
   "execution_count": null,
   "id": "2207c73e",
   "metadata": {},
   "outputs": [],
   "source": [
    "import torch\n",
    "import torch.nn.functional as F\n",
    "from torch import nn\n",
    "\n",
    "class CenteredLayer(nn.Module):\n",
    "    def __init__(self):\n",
    "        super().__init__()\n",
    "\n",
    "    def forward(self, X):\n",
    "        return X - X.mean()"
   ]
  },
  {
   "cell_type": "markdown",
   "id": "061bd9fd",
   "metadata": {},
   "source": [
    "通过提供实例进行尝试"
   ]
  },
  {
   "cell_type": "code",
   "execution_count": 2,
   "id": "6bc2e362",
   "metadata": {},
   "outputs": [
    {
     "data": {
      "text/plain": [
       "tensor([-2., -1.,  0.,  1.,  2.])"
      ]
     },
     "execution_count": 2,
     "metadata": {},
     "output_type": "execute_result"
    }
   ],
   "source": [
    "layer = CenteredLayer()\n",
    "layer(torch.FloatTensor([1, 2, 3, 4, 5]))"
   ]
  },
  {
   "cell_type": "markdown",
   "id": "9070ae37",
   "metadata": {},
   "source": [
    "定义完成后就可以将其作为一个组件合并到更为复杂的模型中"
   ]
  },
  {
   "cell_type": "code",
   "execution_count": 3,
   "id": "50af4b7b",
   "metadata": {},
   "outputs": [],
   "source": [
    "net = nn.Sequential(nn.Linear(8, 128), CenteredLayer())"
   ]
  },
  {
   "cell_type": "markdown",
   "id": "74566076",
   "metadata": {},
   "source": [
    "作为健全性检查，可以后续检查均值是否为0"
   ]
  },
  {
   "cell_type": "code",
   "execution_count": 4,
   "id": "8cb402ae",
   "metadata": {},
   "outputs": [
    {
     "data": {
      "text/plain": [
       "tensor(6.9849e-09, grad_fn=<MeanBackward0>)"
      ]
     },
     "execution_count": 4,
     "metadata": {},
     "output_type": "execute_result"
    }
   ],
   "source": [
    "Y = net(torch.rand(4, 8))\n",
    "Y.mean()"
   ]
  },
  {
   "cell_type": "markdown",
   "id": "964a4ae7",
   "metadata": {},
   "source": [
    "接着就可以尝试构造带参数的层\n",
    "\n",
    "这些参数可以通过训练进行调整。 \n",
    "我们可以使用内置函数来创建参数，这些函数提供一些基本的管理功能。 \n",
    "比如管理访问、初始化、共享、保存和加载模型参数。 这样做的好处之一是：我们不需要为每个自定义层编写自定义的序列化程序。\n",
    "\n",
    "\n",
    "现在，让我们实现自定义版本的全连接层。\n",
    "回想一下，该层需要两个参数，一个用于表示权重，另一个用于表示偏置项。 在此实现中，我们使用修正线性单元作为激活函数。 \n",
    "该层需要输入参数：in_units和units，分别表示输入数和输出数。（输入特征维度和输出特征维度）\n",
    "\n",
    "通过将张量包装为 nn.Parameter，PyTorch 会：\n",
    "    自动将其注册为模块的参数\n",
    "    在反向传播中计算其梯度\n",
    "    在调用 model.parameters() 时包含它\n",
    "    在保存/加载模型时正确处理它"
   ]
  },
  {
   "cell_type": "code",
   "execution_count": 5,
   "id": "ea6135c9",
   "metadata": {},
   "outputs": [],
   "source": [
    "class MyLinear(nn.Module):\n",
    "    def __init__(self, in_units, units):\n",
    "        super().__init__()\n",
    "        # nn.Parameter() 将这个张量包装成一个参数对象，这是 PyTorch 中表示可学习参数的特殊类型\n",
    "        self.weight = nn.Parameter(torch.randn(in_units, units))\n",
    "        self.bias = nn.Parameter(torch.randn(units,))\n",
    "\n",
    "    def forward(self, X):\n",
    "        linear = torch.matmul(X, self.weight.data) + self.bias.data\n",
    "        return F.relu(linear)"
   ]
  },
  {
   "cell_type": "markdown",
   "id": "041e4849",
   "metadata": {},
   "source": [
    "接下来实例化并访问参数"
   ]
  },
  {
   "cell_type": "code",
   "execution_count": 6,
   "id": "682e5b20",
   "metadata": {},
   "outputs": [
    {
     "data": {
      "text/plain": [
       "Parameter containing:\n",
       "tensor([[-0.4994, -1.5832, -0.4318],\n",
       "        [ 0.3443,  0.4894, -0.2987],\n",
       "        [-1.1714, -0.1529,  0.1242],\n",
       "        [ 0.0248,  2.0992,  0.6486],\n",
       "        [-1.1016, -0.4975,  0.1530]], requires_grad=True)"
      ]
     },
     "execution_count": 6,
     "metadata": {},
     "output_type": "execute_result"
    }
   ],
   "source": [
    "linear = MyLinear(5, 3)\n",
    "linear.weight"
   ]
  },
  {
   "cell_type": "markdown",
   "id": "9076d4d4",
   "metadata": {},
   "source": [
    "因为使用Parameter进行了参数化，因此可以直接用自定义层执行前向传播计算"
   ]
  },
  {
   "cell_type": "code",
   "execution_count": 7,
   "id": "10fbd854",
   "metadata": {},
   "outputs": [
    {
     "data": {
      "text/plain": [
       "tensor([[0.0000, 0.0000, 0.2352],\n",
       "        [0.0000, 0.3982, 0.7668]])"
      ]
     },
     "execution_count": 7,
     "metadata": {},
     "output_type": "execute_result"
    }
   ],
   "source": [
    "linear(torch.rand(2, 5))"
   ]
  },
  {
   "cell_type": "markdown",
   "id": "9887f928",
   "metadata": {},
   "source": [
    "完全可以用自定义层来构建模型"
   ]
  },
  {
   "cell_type": "code",
   "execution_count": 8,
   "id": "7ee01b47",
   "metadata": {},
   "outputs": [
    {
     "data": {
      "text/plain": [
       "tensor([[0.5113],\n",
       "        [0.0000]])"
      ]
     },
     "execution_count": 8,
     "metadata": {},
     "output_type": "execute_result"
    }
   ],
   "source": [
    "net = nn.Sequential(MyLinear(64, 8), MyLinear(8, 1))\n",
    "net(torch.rand(2, 64))"
   ]
  }
 ],
 "metadata": {
  "kernelspec": {
   "display_name": "pyml",
   "language": "python",
   "name": "python3"
  },
  "language_info": {
   "codemirror_mode": {
    "name": "ipython",
    "version": 3
   },
   "file_extension": ".py",
   "mimetype": "text/x-python",
   "name": "python",
   "nbconvert_exporter": "python",
   "pygments_lexer": "ipython3",
   "version": "3.9.21"
  }
 },
 "nbformat": 4,
 "nbformat_minor": 5
}
