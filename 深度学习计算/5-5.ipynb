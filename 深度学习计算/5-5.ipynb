{
 "cells": [
  {
   "cell_type": "markdown",
   "id": "dc6512a6",
   "metadata": {},
   "source": [
    "读写文件\n",
    "\n",
    "加载和存储权重向量和整个模型"
   ]
  },
  {
   "cell_type": "markdown",
   "id": "fe17070c",
   "metadata": {},
   "source": [
    "对于单个张量，我们可以直接调用load和save函数分别读写它们。 这两个函数都要求我们提供一个名称，save要求将要保存的变量作为输入\n",
    "\n",
    "通过 torch.save() 函数保存的文件是 PyTorch 专有的二进制文件格式，称为 pickle 格式 或 .pt/.pth 文件。\n",
    "它们不是可读的文本文件，而是二进制格式\n",
    "无法使用文本编辑器查看内容"
   ]
  },
  {
   "cell_type": "code",
   "execution_count": 1,
   "id": "e769d1c5",
   "metadata": {},
   "outputs": [],
   "source": [
    "import torch\n",
    "from torch import nn\n",
    "from torch.nn import functional as F\n",
    "\n",
    "x = torch.arange(4)\n",
    "torch.save(x, 'x-file')"
   ]
  },
  {
   "cell_type": "markdown",
   "id": "497c0829",
   "metadata": {},
   "source": [
    "用load将文件中的数据读回内存"
   ]
  },
  {
   "cell_type": "code",
   "execution_count": 2,
   "id": "6292e7f0",
   "metadata": {},
   "outputs": [
    {
     "data": {
      "text/plain": [
       "tensor([0, 1, 2, 3])"
      ]
     },
     "execution_count": 2,
     "metadata": {},
     "output_type": "execute_result"
    }
   ],
   "source": [
    "x2 = torch.load('x-file')\n",
    "x2"
   ]
  },
  {
   "cell_type": "markdown",
   "id": "916a9458",
   "metadata": {},
   "source": [
    "也可以对张量列表进行操作，然后把它们读回内存"
   ]
  },
  {
   "cell_type": "code",
   "execution_count": 3,
   "id": "acc11e36",
   "metadata": {},
   "outputs": [
    {
     "data": {
      "text/plain": [
       "(tensor([0, 1, 2, 3]), tensor([0., 0., 0., 0.]))"
      ]
     },
     "execution_count": 3,
     "metadata": {},
     "output_type": "execute_result"
    }
   ],
   "source": [
    "y = torch.zeros(4)\n",
    "torch.save([x, y],'x-files')\n",
    "x2, y2 = torch.load('x-files')\n",
    "(x2, y2)"
   ]
  },
  {
   "cell_type": "markdown",
   "id": "df6838f2",
   "metadata": {},
   "source": [
    "也可以读写从字符串映射到张量的字典"
   ]
  },
  {
   "cell_type": "code",
   "execution_count": 4,
   "id": "8f17aa0f",
   "metadata": {},
   "outputs": [
    {
     "data": {
      "text/plain": [
       "{'x': tensor([0, 1, 2, 3]), 'y': tensor([0., 0., 0., 0.])}"
      ]
     },
     "execution_count": 4,
     "metadata": {},
     "output_type": "execute_result"
    }
   ],
   "source": [
    "mydict = {'x': x, 'y': y}\n",
    "torch.save(mydict, 'mydict')\n",
    "mydict2 = torch.load('mydict')\n",
    "mydict2"
   ]
  },
  {
   "cell_type": "markdown",
   "id": "f1c7e9df",
   "metadata": {},
   "source": [
    "加载和保存模型参数"
   ]
  },
  {
   "cell_type": "markdown",
   "id": "0fd05a3e",
   "metadata": {},
   "source": [
    "保存单个权重向量（或其他张量）确实有用，但是如果我们想保存整个模型，并在以后加载它们，单独保存每个向量则会变得很麻烦。 毕竟，我们可能有数百个参数散布在各处。 \n",
    "因此，深度学习框架提供了内置函数来保存和加载整个网络。 \n",
    "\n",
    "需要注意的一个重要细节是，这将保存模型的参数而不是保存整个模型。 \n",
    "例如，如果我们有一个3层多层感知机，我们需要单独指定架构。因为模型本身可以包含任意代码，所以模型本身难以序列化。 \n",
    "因此，为了恢复模型，我们需要用代码生成架构，然后从磁盘加载参数，从熟悉的多层感知机为例进行说明"
   ]
  },
  {
   "cell_type": "code",
   "execution_count": 5,
   "id": "17e0abc4",
   "metadata": {},
   "outputs": [],
   "source": [
    "class MLP(nn.Module):\n",
    "    def __init__(self):\n",
    "        super().__init__()\n",
    "        self.hidden = nn.Linear(20, 256)\n",
    "        self.output = nn.Linear(256, 10)\n",
    "\n",
    "    def forward(self, x):\n",
    "        return self.output(F.relu(self.hidden(x)))\n",
    "\n",
    "net = MLP()\n",
    "X = torch.randn(size=(2, 20))\n",
    "Y = net(X)"
   ]
  },
  {
   "cell_type": "markdown",
   "id": "f7982aca",
   "metadata": {},
   "source": [
    "编写程序，将模型的参数存放到一个文件中"
   ]
  },
  {
   "cell_type": "code",
   "execution_count": 6,
   "id": "17f05a3f",
   "metadata": {},
   "outputs": [],
   "source": [
    "torch.save(net.state_dict(), 'mlp.params')"
   ]
  },
  {
   "cell_type": "markdown",
   "id": "e7720916",
   "metadata": {},
   "source": [
    "如果要恢复模型，实例化一个之前感知机的模型\n",
    "此时并不需要初始化模型参数，直接读取存储的参数即可"
   ]
  },
  {
   "cell_type": "code",
   "execution_count": null,
   "id": "573cb92e",
   "metadata": {},
   "outputs": [
    {
     "data": {
      "text/plain": [
       "MLP(\n",
       "  (hidden): Linear(in_features=20, out_features=256, bias=True)\n",
       "  (output): Linear(in_features=256, out_features=10, bias=True)\n",
       ")"
      ]
     },
     "execution_count": 7,
     "metadata": {},
     "output_type": "execute_result"
    }
   ],
   "source": [
    "clone = MLP()\n",
    "clone.load_state_dict(torch.load('mlp.params'))\n",
    "clone.eval()\n",
    "\n",
    "# eval表示设置成评估模式，使用clone.eval()表示模型保存后载入，加载保存的模型参数后应当设置为评估模式"
   ]
  },
  {
   "cell_type": "code",
   "execution_count": 8,
   "id": "3c4ba71f",
   "metadata": {},
   "outputs": [
    {
     "data": {
      "text/plain": [
       "tensor([[True, True, True, True, True, True, True, True, True, True],\n",
       "        [True, True, True, True, True, True, True, True, True, True]])"
      ]
     },
     "execution_count": 8,
     "metadata": {},
     "output_type": "execute_result"
    }
   ],
   "source": [
    "# 验证是否相同\n",
    "Y_clone = clone(X)\n",
    "Y_clone == Y"
   ]
  }
 ],
 "metadata": {
  "kernelspec": {
   "display_name": "Python 3",
   "language": "python",
   "name": "python3"
  },
  "language_info": {
   "codemirror_mode": {
    "name": "ipython",
    "version": 3
   },
   "file_extension": ".py",
   "mimetype": "text/x-python",
   "name": "python",
   "nbconvert_exporter": "python",
   "pygments_lexer": "ipython3",
   "version": "3.9.21"
  }
 },
 "nbformat": 4,
 "nbformat_minor": 5
}
