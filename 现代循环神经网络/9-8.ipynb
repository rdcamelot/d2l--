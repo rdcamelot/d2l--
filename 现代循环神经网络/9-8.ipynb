{
 "cells": [
  {
   "cell_type": "markdown",
   "id": "4b14297b",
   "metadata": {},
   "source": [
    "之前使用的方案是贪心搜索，也就是每一时间步选取其中具有最高条件概率的词元\n",
    "\n",
    "现实中，最优序列（optimal sequence）应该是最大化 $\\prod_{t'=1}^{T'} P(y_{t'} \\mid y_1, \\ldots, y_{t'-1}, \\mathbf{c})$ 值的输出序列，这是基于输入序列生成输出序列的条件概率。然而，贪心搜索无法保证得到最优序列。\n",
    "\n",
    "也就是贪心仅仅保证了单步的最大概率，但是这个预测值会作为下一步预测的输入，但是可能存在另一个该时间步概率较小的预测，可能可以使得后续整体序列的生成概率最大\n",
    "\n",
    "如果目标是获得最优序列， 我们可以考虑使用穷举搜索（exhaustive search）： 穷举地列举所有可能的输出序列及其条件概率， 然后计算输出条件概率最高的一个\n",
    "但显然这样的时间复杂度会很高"
   ]
  },
  {
   "cell_type": "markdown",
   "id": "42105e9f",
   "metadata": {},
   "source": [
    "束搜索的实际应用则介于这两个极端之间\n",
    "\n",
    "束搜索（beam search）是贪心搜索的一个改进版本。 它有一个超参数，名为束宽（beam size）k。 在时间步1，我们选择具有最高条件概率的k个词元。 这k个词元将分别是k个候选输出序列的第一个词元。 在随后的每个时间步，基于上一时间步的k个候选输出序列， 我们将继续从 $k|\\mathcal{Y}|$ 个可能的选择中挑出具有最高条件概率的k个候选输出序列\n",
    "\n",
    "因为每一轮都限定只保存k个"
   ]
  }
 ],
 "metadata": {
  "kernelspec": {
   "display_name": "pyml",
   "language": "python",
   "name": "python3"
  },
  "language_info": {
   "name": "python",
   "version": "3.9.21"
  }
 },
 "nbformat": 4,
 "nbformat_minor": 5
}
